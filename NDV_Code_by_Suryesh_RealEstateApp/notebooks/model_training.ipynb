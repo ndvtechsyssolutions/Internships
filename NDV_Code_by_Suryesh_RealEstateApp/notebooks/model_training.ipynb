{
 "cells": [
  {
   "cell_type": "code",
   "execution_count": 11,
   "metadata": {},
   "outputs": [
    {
     "name": "stdout",
     "output_type": "stream",
     "text": [
      "\n",
      "Linear Regression\n",
      "  RMSE: 93.07\n",
      "  MAE : 43.40\n",
      "  R²  : 0.51\n",
      "\n",
      "Decision Tree\n",
      "  RMSE: 90.64\n",
      "  MAE : 36.40\n",
      "  R²  : 0.54\n",
      "\n",
      "Random Forest\n",
      "  RMSE: 82.90\n",
      "  MAE : 33.26\n",
      "  R²  : 0.61\n",
      "\n",
      "✅ Best Model: Random Forest\n"
     ]
    },
    {
     "data": {
      "text/plain": [
       "['../models/features.pkl']"
      ]
     },
     "execution_count": 11,
     "metadata": {},
     "output_type": "execute_result"
    }
   ],
   "source": [
    "# notebooks/model_training.ipynb\n",
    "\n",
    "import pandas as pd\n",
    "import joblib\n",
    "import sys\n",
    "import os\n",
    "\n",
    "from sklearn.model_selection import train_test_split\n",
    "from sklearn.linear_model import LinearRegression\n",
    "from sklearn.tree import DecisionTreeRegressor\n",
    "from sklearn.ensemble import RandomForestRegressor\n",
    "from sklearn.metrics import mean_squared_error, mean_absolute_error, r2_score\n",
    "\n",
    "# Add app/ to path so we can import pipeline\n",
    "sys.path.append(os.path.abspath('../app'))\n",
    "from pipeline import clean_data\n",
    "\n",
    "# Load and preprocess the data\n",
    "df = pd.read_csv('../data/raw/Bengaluru_House_Data.csv')\n",
    "X, y, scaler, feature_names = clean_data(df)\n",
    "\n",
    "# Split into training and test sets\n",
    "X_train, X_test, y_train, y_test = train_test_split(X, y, test_size=0.2, random_state=42)\n",
    "\n",
    "# Define models\n",
    "models = {\n",
    "    'Linear Regression': LinearRegression(),\n",
    "    'Decision Tree': DecisionTreeRegressor(),\n",
    "    'Random Forest': RandomForestRegressor(n_estimators=100)\n",
    "}\n",
    "\n",
    "# Train and evaluate models\n",
    "results = []\n",
    "\n",
    "for name, model in models.items():\n",
    "    model.fit(X_train, y_train)\n",
    "    preds = model.predict(X_test)\n",
    "\n",
    "    rmse = mean_squared_error(y_test, preds) ** 0.5\n",
    "    mae = mean_absolute_error(y_test, preds)\n",
    "    r2 = r2_score(y_test, preds)\n",
    "\n",
    "    results.append((name, rmse, mae, r2))\n",
    "    print(f\"\\n{name}\")\n",
    "    print(f\"  RMSE: {rmse:.2f}\")\n",
    "    print(f\"  MAE : {mae:.2f}\")\n",
    "    print(f\"  R²  : {r2:.2f}\")\n",
    "\n",
    "# Select best model based on RMSE\n",
    "results.sort(key=lambda x: x[1])  # sort by RMSE ascending\n",
    "best_model_name = results[0][0]\n",
    "best_model = models[best_model_name]\n",
    "print(f\"\\n✅ Best Model: {best_model_name}\")\n",
    "\n",
    "# Save best model, scaler, and feature list\n",
    "joblib.dump(best_model, '../models/price_predictor.pkl')\n",
    "joblib.dump(scaler, '../models/scaler.pkl')\n",
    "joblib.dump(feature_names, '../models/features.pkl')\n"
   ]
  }
 ],
 "metadata": {
  "kernelspec": {
   "display_name": "base",
   "language": "python",
   "name": "python3"
  },
  "language_info": {
   "codemirror_mode": {
    "name": "ipython",
    "version": 3
   },
   "file_extension": ".py",
   "mimetype": "text/x-python",
   "name": "python",
   "nbconvert_exporter": "python",
   "pygments_lexer": "ipython3",
   "version": "3.11.7"
  }
 },
 "nbformat": 4,
 "nbformat_minor": 2
}
