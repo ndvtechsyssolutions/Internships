# STEP 1: Install and Import Libraries
import pandas as pd
import numpy as np
import seaborn as sns
import matplotlib.pyplot as plt
from scipy import stats
from scipy.stats import ttest_ind, chi2_contingency, f_oneway

# Display settings
pd.set_option('display.float_format', lambda x: '%.2f' % x)
sns.set(style="whitegrid")

# STEP 2: Load Dataset
from google.colab import files
uploaded = files.upload()  # Upload "WA_Fn-UseC_-HR-Employee-Attrition.csv"

df = pd.read_csv("WA_Fn-UseC_-HR-Employee-Attrition.csv")
df.head()
# STEP 3: Descriptive Statistics
df.describe()
  # STEP 4: Visualize Distributions
num_cols = ['Age', 'MonthlyIncome', 'DistanceFromHome', 'YearsAtCompany']

for col in num_cols:
    plt.figure(figsize=(8, 4))
    sns.histplot(df[col], kde=True, bins=30)
    plt.title(f'Distribution of {col}')
    plt.show()
  # STEP 6: Hypothesis 1
# H0: Mean MonthlyIncome is same for Attrition = Yes and No
# H1: Mean MonthlyIncome is different for Attrition = Yes and No

yes_income = df[df['Attrition'] == 'Yes']['MonthlyIncome']
no_income = df[df['Attrition'] == 'No']['MonthlyIncome']

t_stat, p_val = ttest_ind(yes_income, no_income, equal_var=False)
print("T-test Result:")
print(f"T-statistic = {t_stat:.4f}, p-value = {p_val:.4f}")

if p_val < 0.05:
    print("Reject H0: Monthly Income differs significantly by Attrition status.")
else:
    print("Fail to Reject H0: No significant difference in Monthly Income by Attrition.")
# STEP 7: Hypothesis 2
# H0: Attrition is independent of Job Role
# H1: Attrition is dependent on Job Role

contingency_table = pd.crosstab(df['JobRole'], df['Attrition'])
chi2, p_val, dof, expected = chi2_contingency(contingency_table)

print("Chi-Square Test Result:")
print(f"Chi2 = {chi2:.4f}, p-value = {p_val:.4f}")

if p_val < 0.05:
    print("Reject H0: Job Role and Attrition are dependent.")
else:
    print("Fail to Reject H0: No significant relationship between Job Role and Attrition.")
# STEP 8: ANOVA (if applicable)
# H0: No difference in average Monthly Income across Education Levels
# H1: At least one group differs

groups = [df[df['Education'] == i]['MonthlyIncome'] for i in sorted(df['Education'].unique())]
f_stat, p_val = f_oneway(*groups)

print("ANOVA Test on MonthlyIncome by Education Level:")
print(f"F-statistic = {f_stat:.4f}, p-value = {p_val:.4f}")

if p_val < 0.05:
    print("Reject H0: At least one education level group differs in income.")
else:
    print("Fail to Reject H0: No significant difference across education levels.")
# STEP 9: Correlation Analysis and Heatmap
plt.figure(figsize=(10, 6))
corr = df.select_dtypes(include=np.number).corr()
sns.heatmap(corr, annot=True, cmap='coolwarm', fmt=".2f")
plt.title("Correlation Heatmap")
plt.show()

# STEP 10: Pivot Table Summary
pivot = pd.pivot_table(df, values='MonthlyIncome', index='JobRole', columns='Attrition', aggfunc=np.mean)
pivot.plot(kind='bar', figsize=(12, 6))
plt.title('Average Monthly Income by Job Role and Attrition Status')
plt.ylabel('Average Monthly Income')
plt.xticks(rotation=45)
plt.show()
  
