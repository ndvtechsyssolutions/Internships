# STEP 1: Install and Import Required Libraries
import pandas as pd
import numpy as np
import matplotlib.pyplot as plt
import seaborn as sns

from sklearn.model_selection import train_test_split
from sklearn.linear_model import LinearRegression
from sklearn.metrics import mean_squared_error, r2_score

# Plotting settings
sns.set(style='whitegrid')
# STEP 2: Upload the Dataset
from google.colab import files
uploaded = files.upload()  # Upload 'Salary_Data.csv'
df = pd.read_csv('Salary_Data.csv')
df.head()
# STEP 3: Explore the Dataset
print("Dataset Shape:", df.shape)
print("\nMissing Values:\n", df.isnull().sum())
df.describe()
# STEP 4: Scatter Plot (Exploration)
plt.figure(figsize=(8, 5))
sns.scatterplot(x='YearsExperience', y='Salary', data=df, color='blue')
plt.title('Salary vs Years of Experience')
plt.xlabel('Years of Experience')
plt.ylabel('Salary')
plt.show()
# STEP 5: Prepare Data for Modeling
X = df[['YearsExperience']]  # 2D array
y = df['Salary']             # 1D array

# 80/20 split
X_train, X_test, y_train, y_test = train_test_split(X, y, test_size=0.2, random_state=42)
# STEP 6: Train the Model
model = LinearRegression()
model.fit(X_train, y_train)

# Coefficients
print(f"Intercept: {model.intercept_:.2f}")
print(f"Slope: {model.coef_[0]:.2f}")
# STEP 7: Predict on Test Data
y_pred = model.predict(X_test)

# Evaluation
mse = mean_squared_error(y_test, y_pred)
r2 = r2_score(y_test, y_pred)

print(f"\nModel Performance on Test Set:")
print(f"Mean Squared Error: {mse:.2f}")
print(f"R² Score: {r2:.2f}")

# STEP 8: Plot Regression Line
plt.figure(figsize=(8, 5))
sns.scatterplot(x='YearsExperience', y='Salary', data=df, color='blue', label='Actual')
plt.plot(X, model.predict(X), color='red', label='Regression Line')
plt.xlabel('Years of Experience')
plt.ylabel('Salary')
plt.title('Simple Linear Regression')
plt.legend()
plt.show()
# Error bars using prediction intervals (approximation)
import matplotlib.lines as mlines

plt.figure(figsize=(8, 5))
plt.scatter(X_test, y_test, label='Actual', color='blue')
plt.plot(X_test, y_pred, color='red', label='Prediction')

# Adding basic error bars (±1 std dev of residuals)
residuals = y_test - y_pred
std_dev = residuals.std()
plt.errorbar(X_test['YearsExperience'], y_pred, yerr=std_dev, fmt='o', color='green', label='Prediction ±1σ')

plt.xlabel('Years of Experience')
plt.ylabel('Salary')
plt.title('Regression with Error Bars')
plt.legend()
plt.show()
comparison = pd.DataFrame({'Actual': y_test.values, 'Predicted': y_pred})
comparison = comparison.reset_index(drop=True)

comparison.plot(kind='bar', figsize=(10, 5))
plt.title('Actual vs Predicted Salaries')
plt.ylabel('Salary')
plt.xlabel('Test Sample Index')
plt.show()
