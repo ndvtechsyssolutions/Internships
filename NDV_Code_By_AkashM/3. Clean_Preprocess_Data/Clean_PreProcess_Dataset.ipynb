{
  "nbformat": 4,
  "nbformat_minor": 0,
  "metadata": {
    "colab": {
      "provenance": []
    },
    "kernelspec": {
      "name": "python3",
      "display_name": "Python 3"
    },
    "language_info": {
      "name": "python"
    }
  },
  "cells": [
    {
      "cell_type": "code",
      "execution_count": 2,
      "metadata": {
        "id": "yIgmeLdhru5R"
      },
      "outputs": [],
      "source": [
        "import pandas as pd\n",
        "import numpy as np\n",
        "import matplotlib.pyplot as plt\n",
        "import seaborn as sns"
      ]
    },
    {
      "cell_type": "code",
      "source": [
        "from google.colab import files\n",
        "uploaded = files.upload()\n",
        "filename = list(uploaded.keys())[0]\n",
        "netflix_data = pd.read_csv(filename)\n",
        "print(\"Data loaded successfully.\")"
      ],
      "metadata": {
        "colab": {
          "base_uri": "https://localhost:8080/",
          "height": 90
        },
        "id": "9wPtBACrtX8b",
        "outputId": "4e334b25-b483-48fd-d6fe-5fbe7bfd96ea"
      },
      "execution_count": 5,
      "outputs": [
        {
          "output_type": "display_data",
          "data": {
            "text/plain": [
              "<IPython.core.display.HTML object>"
            ],
            "text/html": [
              "\n",
              "     <input type=\"file\" id=\"files-2408c4af-26f8-4e01-ba6f-b02e73478278\" name=\"files[]\" multiple disabled\n",
              "        style=\"border:none\" />\n",
              "     <output id=\"result-2408c4af-26f8-4e01-ba6f-b02e73478278\">\n",
              "      Upload widget is only available when the cell has been executed in the\n",
              "      current browser session. Please rerun this cell to enable.\n",
              "      </output>\n",
              "      <script>// Copyright 2017 Google LLC\n",
              "//\n",
              "// Licensed under the Apache License, Version 2.0 (the \"License\");\n",
              "// you may not use this file except in compliance with the License.\n",
              "// You may obtain a copy of the License at\n",
              "//\n",
              "//      http://www.apache.org/licenses/LICENSE-2.0\n",
              "//\n",
              "// Unless required by applicable law or agreed to in writing, software\n",
              "// distributed under the License is distributed on an \"AS IS\" BASIS,\n",
              "// WITHOUT WARRANTIES OR CONDITIONS OF ANY KIND, either express or implied.\n",
              "// See the License for the specific language governing permissions and\n",
              "// limitations under the License.\n",
              "\n",
              "/**\n",
              " * @fileoverview Helpers for google.colab Python module.\n",
              " */\n",
              "(function(scope) {\n",
              "function span(text, styleAttributes = {}) {\n",
              "  const element = document.createElement('span');\n",
              "  element.textContent = text;\n",
              "  for (const key of Object.keys(styleAttributes)) {\n",
              "    element.style[key] = styleAttributes[key];\n",
              "  }\n",
              "  return element;\n",
              "}\n",
              "\n",
              "// Max number of bytes which will be uploaded at a time.\n",
              "const MAX_PAYLOAD_SIZE = 100 * 1024;\n",
              "\n",
              "function _uploadFiles(inputId, outputId) {\n",
              "  const steps = uploadFilesStep(inputId, outputId);\n",
              "  const outputElement = document.getElementById(outputId);\n",
              "  // Cache steps on the outputElement to make it available for the next call\n",
              "  // to uploadFilesContinue from Python.\n",
              "  outputElement.steps = steps;\n",
              "\n",
              "  return _uploadFilesContinue(outputId);\n",
              "}\n",
              "\n",
              "// This is roughly an async generator (not supported in the browser yet),\n",
              "// where there are multiple asynchronous steps and the Python side is going\n",
              "// to poll for completion of each step.\n",
              "// This uses a Promise to block the python side on completion of each step,\n",
              "// then passes the result of the previous step as the input to the next step.\n",
              "function _uploadFilesContinue(outputId) {\n",
              "  const outputElement = document.getElementById(outputId);\n",
              "  const steps = outputElement.steps;\n",
              "\n",
              "  const next = steps.next(outputElement.lastPromiseValue);\n",
              "  return Promise.resolve(next.value.promise).then((value) => {\n",
              "    // Cache the last promise value to make it available to the next\n",
              "    // step of the generator.\n",
              "    outputElement.lastPromiseValue = value;\n",
              "    return next.value.response;\n",
              "  });\n",
              "}\n",
              "\n",
              "/**\n",
              " * Generator function which is called between each async step of the upload\n",
              " * process.\n",
              " * @param {string} inputId Element ID of the input file picker element.\n",
              " * @param {string} outputId Element ID of the output display.\n",
              " * @return {!Iterable<!Object>} Iterable of next steps.\n",
              " */\n",
              "function* uploadFilesStep(inputId, outputId) {\n",
              "  const inputElement = document.getElementById(inputId);\n",
              "  inputElement.disabled = false;\n",
              "\n",
              "  const outputElement = document.getElementById(outputId);\n",
              "  outputElement.innerHTML = '';\n",
              "\n",
              "  const pickedPromise = new Promise((resolve) => {\n",
              "    inputElement.addEventListener('change', (e) => {\n",
              "      resolve(e.target.files);\n",
              "    });\n",
              "  });\n",
              "\n",
              "  const cancel = document.createElement('button');\n",
              "  inputElement.parentElement.appendChild(cancel);\n",
              "  cancel.textContent = 'Cancel upload';\n",
              "  const cancelPromise = new Promise((resolve) => {\n",
              "    cancel.onclick = () => {\n",
              "      resolve(null);\n",
              "    };\n",
              "  });\n",
              "\n",
              "  // Wait for the user to pick the files.\n",
              "  const files = yield {\n",
              "    promise: Promise.race([pickedPromise, cancelPromise]),\n",
              "    response: {\n",
              "      action: 'starting',\n",
              "    }\n",
              "  };\n",
              "\n",
              "  cancel.remove();\n",
              "\n",
              "  // Disable the input element since further picks are not allowed.\n",
              "  inputElement.disabled = true;\n",
              "\n",
              "  if (!files) {\n",
              "    return {\n",
              "      response: {\n",
              "        action: 'complete',\n",
              "      }\n",
              "    };\n",
              "  }\n",
              "\n",
              "  for (const file of files) {\n",
              "    const li = document.createElement('li');\n",
              "    li.append(span(file.name, {fontWeight: 'bold'}));\n",
              "    li.append(span(\n",
              "        `(${file.type || 'n/a'}) - ${file.size} bytes, ` +\n",
              "        `last modified: ${\n",
              "            file.lastModifiedDate ? file.lastModifiedDate.toLocaleDateString() :\n",
              "                                    'n/a'} - `));\n",
              "    const percent = span('0% done');\n",
              "    li.appendChild(percent);\n",
              "\n",
              "    outputElement.appendChild(li);\n",
              "\n",
              "    const fileDataPromise = new Promise((resolve) => {\n",
              "      const reader = new FileReader();\n",
              "      reader.onload = (e) => {\n",
              "        resolve(e.target.result);\n",
              "      };\n",
              "      reader.readAsArrayBuffer(file);\n",
              "    });\n",
              "    // Wait for the data to be ready.\n",
              "    let fileData = yield {\n",
              "      promise: fileDataPromise,\n",
              "      response: {\n",
              "        action: 'continue',\n",
              "      }\n",
              "    };\n",
              "\n",
              "    // Use a chunked sending to avoid message size limits. See b/62115660.\n",
              "    let position = 0;\n",
              "    do {\n",
              "      const length = Math.min(fileData.byteLength - position, MAX_PAYLOAD_SIZE);\n",
              "      const chunk = new Uint8Array(fileData, position, length);\n",
              "      position += length;\n",
              "\n",
              "      const base64 = btoa(String.fromCharCode.apply(null, chunk));\n",
              "      yield {\n",
              "        response: {\n",
              "          action: 'append',\n",
              "          file: file.name,\n",
              "          data: base64,\n",
              "        },\n",
              "      };\n",
              "\n",
              "      let percentDone = fileData.byteLength === 0 ?\n",
              "          100 :\n",
              "          Math.round((position / fileData.byteLength) * 100);\n",
              "      percent.textContent = `${percentDone}% done`;\n",
              "\n",
              "    } while (position < fileData.byteLength);\n",
              "  }\n",
              "\n",
              "  // All done.\n",
              "  yield {\n",
              "    response: {\n",
              "      action: 'complete',\n",
              "    }\n",
              "  };\n",
              "}\n",
              "\n",
              "scope.google = scope.google || {};\n",
              "scope.google.colab = scope.google.colab || {};\n",
              "scope.google.colab._files = {\n",
              "  _uploadFiles,\n",
              "  _uploadFilesContinue,\n",
              "};\n",
              "})(self);\n",
              "</script> "
            ]
          },
          "metadata": {}
        },
        {
          "output_type": "stream",
          "name": "stdout",
          "text": [
            "Saving netflix_titles.csv to netflix_titles (1).csv\n",
            "Data loaded successfully.\n"
          ]
        }
      ]
    },
    {
      "cell_type": "code",
      "source": [
        "print(\"Dataset shape:\", netflix_data.shape)\n",
        "print(\"Columns available:\", list(netflix_data.columns))\n",
        "print(netflix_data.head(3))"
      ],
      "metadata": {
        "colab": {
          "base_uri": "https://localhost:8080/"
        },
        "id": "jwZ_CcaTulQa",
        "outputId": "01dad514-98a9-4db8-b419-03cc6c3e91b1"
      },
      "execution_count": 7,
      "outputs": [
        {
          "output_type": "stream",
          "name": "stdout",
          "text": [
            "Dataset shape: (8807, 12)\n",
            "Columns available: ['show_id', 'type', 'title', 'director', 'cast', 'country', 'date_added', 'release_year', 'rating', 'duration', 'listed_in', 'description']\n",
            "  show_id     type                 title         director  \\\n",
            "0      s1    Movie  Dick Johnson Is Dead  Kirsten Johnson   \n",
            "1      s2  TV Show         Blood & Water              NaN   \n",
            "2      s3  TV Show             Ganglands  Julien Leclercq   \n",
            "\n",
            "                                                cast        country  \\\n",
            "0                                                NaN  United States   \n",
            "1  Ama Qamata, Khosi Ngema, Gail Mabalane, Thaban...   South Africa   \n",
            "2  Sami Bouajila, Tracy Gotoas, Samuel Jouy, Nabi...            NaN   \n",
            "\n",
            "           date_added  release_year rating   duration  \\\n",
            "0  September 25, 2021          2020  PG-13     90 min   \n",
            "1  September 24, 2021          2021  TV-MA  2 Seasons   \n",
            "2  September 24, 2021          2021  TV-MA   1 Season   \n",
            "\n",
            "                                           listed_in  \\\n",
            "0                                      Documentaries   \n",
            "1    International TV Shows, TV Dramas, TV Mysteries   \n",
            "2  Crime TV Shows, International TV Shows, TV Act...   \n",
            "\n",
            "                                         description  \n",
            "0  As her father nears the end of his life, filmm...  \n",
            "1  After crossing paths at a party, a Cape Town t...  \n",
            "2  To protect his family from a powerful drug lor...  \n"
          ]
        }
      ]
    },
    {
      "cell_type": "code",
      "source": [
        "print(netflix_data.info())"
      ],
      "metadata": {
        "colab": {
          "base_uri": "https://localhost:8080/"
        },
        "id": "e4qHNaHuupfN",
        "outputId": "638066e9-901c-4069-a91a-c512d4991bc9"
      },
      "execution_count": 8,
      "outputs": [
        {
          "output_type": "stream",
          "name": "stdout",
          "text": [
            "<class 'pandas.core.frame.DataFrame'>\n",
            "RangeIndex: 8807 entries, 0 to 8806\n",
            "Data columns (total 12 columns):\n",
            " #   Column        Non-Null Count  Dtype \n",
            "---  ------        --------------  ----- \n",
            " 0   show_id       8807 non-null   object\n",
            " 1   type          8807 non-null   object\n",
            " 2   title         8807 non-null   object\n",
            " 3   director      6173 non-null   object\n",
            " 4   cast          7982 non-null   object\n",
            " 5   country       7976 non-null   object\n",
            " 6   date_added    8797 non-null   object\n",
            " 7   release_year  8807 non-null   int64 \n",
            " 8   rating        8803 non-null   object\n",
            " 9   duration      8804 non-null   object\n",
            " 10  listed_in     8807 non-null   object\n",
            " 11  description   8807 non-null   object\n",
            "dtypes: int64(1), object(11)\n",
            "memory usage: 825.8+ KB\n",
            "None\n"
          ]
        }
      ]
    },
    {
      "cell_type": "code",
      "source": [
        "null_counts = netflix_data.isnull().sum()\n",
        "print(\"Missing values:\\n\", null_counts)"
      ],
      "metadata": {
        "colab": {
          "base_uri": "https://localhost:8080/"
        },
        "id": "xwEJ9lgGusw6",
        "outputId": "f9e9dfd1-9dc5-440c-b6f1-6e32d3911f32"
      },
      "execution_count": 9,
      "outputs": [
        {
          "output_type": "stream",
          "name": "stdout",
          "text": [
            "Missing values:\n",
            " show_id            0\n",
            "type               0\n",
            "title              0\n",
            "director        2634\n",
            "cast             825\n",
            "country          831\n",
            "date_added        10\n",
            "release_year       0\n",
            "rating             4\n",
            "duration           3\n",
            "listed_in          0\n",
            "description        0\n",
            "dtype: int64\n"
          ]
        }
      ]
    },
    {
      "cell_type": "code",
      "source": [
        "plt.figure(figsize=(10,5))\n",
        "sns.heatmap(netflix_data.isnull(), cmap=\"YlGnBu\", cbar=False)\n",
        "plt.title(\"Missing Values Heatmap\")\n",
        "plt.show()"
      ],
      "metadata": {
        "colab": {
          "base_uri": "https://localhost:8080/",
          "height": 542
        },
        "id": "5zMARrrtuwZc",
        "outputId": "d3c83c1e-8914-489a-dff7-99f1196005ad"
      },
      "execution_count": 10,
      "outputs": [
        {
          "output_type": "display_data",
          "data": {
            "text/plain": [
              "<Figure size 1000x500 with 1 Axes>"
            ],
            "image/png": "[encoded data removed]"
          },
          "metadata": {}
        }
      ]
    },
    {
      "cell_type": "code",
      "source": [
        "most_common_rating = netflix_data['rating'].mode()[0]\n",
        "netflix_data['rating'].fillna(most_common_rating, inplace=True)"
      ],
      "metadata": {
        "colab": {
          "base_uri": "https://localhost:8080/"
        },
        "id": "qOpk6trxu0ED",
        "outputId": "14fa23a2-0be6-4088-cb41-d0c9e701899a"
      },
      "execution_count": 11,
      "outputs": [
        {
          "output_type": "stream",
          "name": "stderr",
          "text": [
            "/tmp/ipython-input-11-460077678.py:2: FutureWarning: A value is trying to be set on a copy of a DataFrame or Series through chained assignment using an inplace method.\n",
            "The behavior will change in pandas 3.0. This inplace method will never work because the intermediate object on which we are setting values always behaves as a copy.\n",
            "\n",
            "For example, when doing 'df[col].method(value, inplace=True)', try using 'df.method({col: value}, inplace=True)' or df[col] = df[col].method(value) instead, to perform the operation inplace on the original object.\n",
            "\n",
            "\n",
            "  netflix_data['rating'].fillna(most_common_rating, inplace=True)\n"
          ]
        }
      ]
    },
    {
      "cell_type": "code",
      "source": [
        "netflix_data['country'].fillna(\"Not Specified\", inplace=True)"
      ],
      "metadata": {
        "colab": {
          "base_uri": "https://localhost:8080/"
        },
        "id": "n2CDlCKHu5ZE",
        "outputId": "54a17b3c-9749-423c-b712-481f11eeb844"
      },
      "execution_count": 12,
      "outputs": [
        {
          "output_type": "stream",
          "name": "stderr",
          "text": [
            "/tmp/ipython-input-12-871699927.py:1: FutureWarning: A value is trying to be set on a copy of a DataFrame or Series through chained assignment using an inplace method.\n",
            "The behavior will change in pandas 3.0. This inplace method will never work because the intermediate object on which we are setting values always behaves as a copy.\n",
            "\n",
            "For example, when doing 'df[col].method(value, inplace=True)', try using 'df.method({col: value}, inplace=True)' or df[col] = df[col].method(value) instead, to perform the operation inplace on the original object.\n",
            "\n",
            "\n",
            "  netflix_data['country'].fillna(\"Not Specified\", inplace=True)\n"
          ]
        }
      ]
    },
    {
      "cell_type": "code",
      "source": [
        "netflix_data.dropna(subset=['date_added'], inplace=True)\n",
        "print(\"After handling missing data:\\n\", netflix_data.isnull().sum())"
      ],
      "metadata": {
        "colab": {
          "base_uri": "https://localhost:8080/"
        },
        "id": "uBeVESwTu8f0",
        "outputId": "07076fda-43be-4878-ef4a-60d4a7a5b7df"
      },
      "execution_count": 15,
      "outputs": [
        {
          "output_type": "stream",
          "name": "stdout",
          "text": [
            "After handling missing data:\n",
            " show_id            0\n",
            "type               0\n",
            "title              0\n",
            "director        2624\n",
            "cast             825\n",
            "country            0\n",
            "date_added         0\n",
            "release_year       0\n",
            "rating             0\n",
            "duration           3\n",
            "listed_in          0\n",
            "description        0\n",
            "dtype: int64\n"
          ]
        }
      ]
    },
    {
      "cell_type": "code",
      "source": [
        "duplicates = netflix_data.duplicated().sum()\n",
        "print(\"Duplicate rows found:\", duplicates)"
      ],
      "metadata": {
        "colab": {
          "base_uri": "https://localhost:8080/"
        },
        "id": "xVAtDRLevGWM",
        "outputId": "a9889f39-0b7f-481c-8d19-fe37970ab565"
      },
      "execution_count": 16,
      "outputs": [
        {
          "output_type": "stream",
          "name": "stdout",
          "text": [
            "Duplicate rows found: 0\n"
          ]
        }
      ]
    },
    {
      "cell_type": "code",
      "source": [
        "netflix_data = netflix_data.drop_duplicates()\n",
        "print(\"Data shape after removing duplicates:\", netflix_data.shape)"
      ],
      "metadata": {
        "colab": {
          "base_uri": "https://localhost:8080/"
        },
        "id": "JaTlT_7XvI3v",
        "outputId": "b060691c-a0bb-40e7-a770-831760f8a089"
      },
      "execution_count": 17,
      "outputs": [
        {
          "output_type": "stream",
          "name": "stdout",
          "text": [
            "Data shape after removing duplicates: (8797, 12)\n"
          ]
        }
      ]
    },
    {
      "cell_type": "code",
      "source": [
        "netflix_data['date_added'] = pd.to_datetime(netflix_data['date_added'],format='mixed')\n",
        "netflix_data['year_added'] = netflix_data['date_added'].dt.year"
      ],
      "metadata": {
        "id": "i-HLakryvLb6"
      },
      "execution_count": 24,
      "outputs": []
    },
    {
      "cell_type": "code",
      "source": [
        "netflix_data['type_code'] = netflix_data['type'].map({'Movie':1, 'TV Show':0})\n",
        "netflix_data['title_length'] = np.where(netflix_data['title'].notnull(), netflix_data['title'].apply(len), 0)"
      ],
      "metadata": {
        "id": "0QPALrn6vzfQ"
      },
      "execution_count": 25,
      "outputs": []
    },
    {
      "cell_type": "code",
      "source": [
        "recent_shows = netflix_data[(netflix_data['type']=='Movie') & (netflix_data['year_added'] > 2016)]\n",
        "print(\"Recent movies sample:\\n\", recent_shows[['title', 'year_added']].head())"
      ],
      "metadata": {
        "colab": {
          "base_uri": "https://localhost:8080/"
        },
        "id": "q0h2dZ_mwAUv",
        "outputId": "30118746-72be-4e12-fcd7-7e076dd733cc"
      },
      "execution_count": 26,
      "outputs": [
        {
          "output_type": "stream",
          "name": "stdout",
          "text": [
            "Recent movies sample:\n",
            "                                title  year_added\n",
            "0               Dick Johnson Is Dead        2021\n",
            "6   My Little Pony: A New Generation        2021\n",
            "7                            Sankofa        2021\n",
            "9                       The Starling        2021\n",
            "12                      Je Suis Karl        2021\n"
          ]
        }
      ]
    },
    {
      "cell_type": "code",
      "source": [
        "titles_sorted = netflix_data.sort_values(by='title_length', ascending=False)\n",
        "print(\"Top longest titles:\\n\", titles_sorted[['title', 'title_length']].head())"
      ],
      "metadata": {
        "colab": {
          "base_uri": "https://localhost:8080/"
        },
        "id": "0ZmWa1vawC-7",
        "outputId": "59d2f963-daf8-46c0-a2ea-57f85cd9f9ea"
      },
      "execution_count": 27,
      "outputs": [
        {
          "output_type": "stream",
          "name": "stdout",
          "text": [
            "Top longest titles:\n",
            "                                                   title  title_length\n",
            "5164  Jim & Andy: The Great Beyond - Featuring a Ver...           104\n",
            "2813  Ken Burns Presents: College Behind Bars: A Fil...            93\n",
            "8462  The Power of Grayskull: The Definitive History...            88\n",
            "3240  Mike Birbiglia: What I Should Have Said Was No...            88\n",
            "4851  Steve Martin and Martin Short: An Evening You ...            83\n"
          ]
        }
      ]
    },
    {
      "cell_type": "code",
      "source": [
        "country_summary = netflix_data.groupby('country').size().sort_values(ascending=False)\n",
        "print(\"Number of titles by country:\\n\", country_summary.head())"
      ],
      "metadata": {
        "colab": {
          "base_uri": "https://localhost:8080/"
        },
        "id": "xdRop8RowFiH",
        "outputId": "c1fbcd46-3a78-4e96-d818-6d0116472cb8"
      },
      "execution_count": 28,
      "outputs": [
        {
          "output_type": "stream",
          "name": "stdout",
          "text": [
            "Number of titles by country:\n",
            " country\n",
            "United States     2812\n",
            "India              972\n",
            "Not Specified      830\n",
            "United Kingdom     418\n",
            "Japan              244\n",
            "dtype: int64\n"
          ]
        }
      ]
    },
    {
      "cell_type": "code",
      "source": [
        "print(\"Summary statistics:\\n\", netflix_data.describe(include='all'))"
      ],
      "metadata": {
        "colab": {
          "base_uri": "https://localhost:8080/"
        },
        "id": "oAuswK1DwHuM",
        "outputId": "bfbbef38-1fd4-4c49-d5de-4b507d953277"
      },
      "execution_count": 29,
      "outputs": [
        {
          "output_type": "stream",
          "name": "stdout",
          "text": [
            "Summary statistics:\n",
            "        show_id   type   title       director                cast  \\\n",
            "count     8797   8797    8797           6173                7972   \n",
            "unique    8797      2    8797           4528                7682   \n",
            "top      s8807  Movie  Zubaan  Rajiv Chilaka  David Attenborough   \n",
            "freq         1   6131       1             19                  19   \n",
            "mean       NaN    NaN     NaN            NaN                 NaN   \n",
            "min        NaN    NaN     NaN            NaN                 NaN   \n",
            "25%        NaN    NaN     NaN            NaN                 NaN   \n",
            "50%        NaN    NaN     NaN            NaN                 NaN   \n",
            "75%        NaN    NaN     NaN            NaN                 NaN   \n",
            "max        NaN    NaN     NaN            NaN                 NaN   \n",
            "std        NaN    NaN     NaN            NaN                 NaN   \n",
            "\n",
            "              country                     date_added  release_year rating  \\\n",
            "count            8797                           8797   8797.000000   8797   \n",
            "unique            749                            NaN           NaN     17   \n",
            "top     United States                            NaN           NaN  TV-MA   \n",
            "freq             2812                            NaN           NaN   3209   \n",
            "mean              NaN  2019-05-17 05:59:08.436966912   2014.183472    NaN   \n",
            "min               NaN            2008-01-01 00:00:00   1925.000000    NaN   \n",
            "25%               NaN            2018-04-06 00:00:00   2013.000000    NaN   \n",
            "50%               NaN            2019-07-02 00:00:00   2017.000000    NaN   \n",
            "75%               NaN            2020-08-19 00:00:00   2019.000000    NaN   \n",
            "max               NaN            2021-09-25 00:00:00   2021.000000    NaN   \n",
            "std               NaN                            NaN      8.822191    NaN   \n",
            "\n",
            "        duration                     listed_in  \\\n",
            "count       8794                          8797   \n",
            "unique       220                           513   \n",
            "top     1 Season  Dramas, International Movies   \n",
            "freq        1793                           362   \n",
            "mean         NaN                           NaN   \n",
            "min          NaN                           NaN   \n",
            "25%          NaN                           NaN   \n",
            "50%          NaN                           NaN   \n",
            "75%          NaN                           NaN   \n",
            "max          NaN                           NaN   \n",
            "std          NaN                           NaN   \n",
            "\n",
            "                                              description   year_added  \\\n",
            "count                                                8797  8797.000000   \n",
            "unique                                               8765          NaN   \n",
            "top     Paranormal activity at a lush, abandoned prope...          NaN   \n",
            "freq                                                    4          NaN   \n",
            "mean                                                  NaN  2018.871888   \n",
            "min                                                   NaN  2008.000000   \n",
            "25%                                                   NaN  2018.000000   \n",
            "50%                                                   NaN  2019.000000   \n",
            "75%                                                   NaN  2020.000000   \n",
            "max                                                   NaN  2021.000000   \n",
            "std                                                   NaN     1.574243   \n",
            "\n",
            "          type_code  title_length  \n",
            "count   8797.000000   8797.000000  \n",
            "unique          NaN           NaN  \n",
            "top             NaN           NaN  \n",
            "freq            NaN           NaN  \n",
            "mean       0.696942     17.726043  \n",
            "min        0.000000      1.000000  \n",
            "25%        0.000000     10.000000  \n",
            "50%        1.000000     15.000000  \n",
            "75%        1.000000     23.000000  \n",
            "max        1.000000    104.000000  \n",
            "std        0.459606     10.629150  \n"
          ]
        }
      ]
    },
    {
      "cell_type": "code",
      "source": [
        "plt.figure(figsize=(7,5))\n",
        "sns.heatmap(netflix_data.select_dtypes(include=['float64','int64']).corr(), annot=True, cmap=\"RdBu\")\n",
        "plt.title(\"Correlation Matrix of Numerical Fields\")\n",
        "plt.show()"
      ],
      "metadata": {
        "colab": {
          "base_uri": "https://localhost:8080/",
          "height": 468
        },
        "id": "Gx39Gp9zwKcf",
        "outputId": "2e2c00db-03c1-4844-8b8b-a6ab2be5e01e"
      },
      "execution_count": 31,
      "outputs": [
        {
          "output_type": "display_data",
          "data": {
            "text/plain": [
              "<Figure size 700x500 with 2 Axes>"
            ],
            "image/png": "[encoded data removed]"
          },
          "metadata": {}
        }
      ]
    }
  ]
}