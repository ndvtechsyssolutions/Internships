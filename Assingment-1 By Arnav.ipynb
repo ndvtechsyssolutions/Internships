{
 "cells": [
  {
   "cell_type": "code",
   "execution_count": 6,
   "id": "43a98911-1d3f-4f65-9439-8c147155dbb2",
   "metadata": {},
   "outputs": [
    {
     "name": "stdout",
     "output_type": "stream",
     "text": [
      "\n",
      "--- Tax Deduction Calculator (FY 2024-25) ---\n"
     ]
    },
    {
     "name": "stdin",
     "output_type": "stream",
     "text": [
      "Enter your CTC:  2000000\n",
      "Enter your Bonus:  95000\n"
     ]
    },
    {
     "name": "stdout",
     "output_type": "stream",
     "text": [
      "\n",
      "Total Income: Rs.2095000.0\n",
      "Old Regime Tax Deduction: Rs.396240\n",
      "New Regime Tax Deduction: Rs.341640\n",
      "\n",
      "You Save Rs.54600 more using the New Regime.\n",
      "\n",
      "Menu:\n",
      "1. Recalculate\n",
      "2. Exit\n"
     ]
    },
    {
     "name": "stdin",
     "output_type": "stream",
     "text": [
      "Enter your choice:  2\n"
     ]
    },
    {
     "name": "stdout",
     "output_type": "stream",
     "text": [
      "Thank you for using the Tax Deduction Calculator!\n"
     ]
    }
   ],
   "source": [
    "\"\"\"\n",
    "Tax Deduction Calculator: Old vs New Regime\n",
    "Student Name: Arnav Anand\n",
    "Date: 21 May 2025\n",
    "\n",
    "This Code Calculates tax deductions under both the Old and New Regimes\n",
    "for FY 2024-25 based on user input for CTC and Bonus.\n",
    "\"\"\"\n",
    "def calculate_old_regime_tax(total_income):\n",
    "    \"\"\"\n",
    "    Calculates tax as per Old Regime for FY 2024-25.\n",
    "    Assumptions:\n",
    "        - Standard Deduction: Rs. 50,000\n",
    "        - 80C Deduction: Rs. 1,50,000\n",
    "        - No HRA or other exemptions considered for simplicity\n",
    "    \"\"\"\n",
    "    standard_deduction = 50000\n",
    "    deduction_80c = 150000\n",
    "    taxable_income = total_income - standard_deduction - deduction_80c\n",
    "    if taxable_income < 0:\n",
    "        taxable_income = 0\n",
    "\n",
    "    # Old Regime Slabs (FY 2024-25)\n",
    "    tax = 0\n",
    "    if taxable_income <= 250000:\n",
    "        tax = 0\n",
    "    elif taxable_income <= 500000:\n",
    "        tax = 0.05 * (taxable_income - 250000)\n",
    "    elif taxable_income <= 1000000:\n",
    "        tax = 0.05 * 250000 + 0.2 * (taxable_income - 500000)\n",
    "    else:\n",
    "        tax = 0.05 * 250000 + 0.2 * 500000 + 0.3 * (taxable_income - 1000000)\n",
    "\n",
    "    # Rebate for income up to Rs. 5 lakh\n",
    "    if taxable_income <= 500000:\n",
    "        rebate = min(tax, 12500)\n",
    "        tax -= rebate\n",
    "\n",
    "    # Health and Education Cess: 4%\n",
    "    tax = tax * 1.04\n",
    "\n",
    "    return round(tax)\n",
    "\n",
    "\n",
    "def calculate_new_regime_tax(total_income):\n",
    "    \"\"\"\n",
    "    Calculates tax as per New Regime for FY 2024-25.\n",
    "    No deductions allowed.\n",
    "    \"\"\"\n",
    "    taxable_income = total_income\n",
    "\n",
    "    # New Regime Slabs (FY 2024-25)\n",
    "    tax = 0\n",
    "    if taxable_income <= 300000:\n",
    "        tax = 0\n",
    "    elif taxable_income <= 600000:\n",
    "        tax = 0.05 * (taxable_income - 300000)\n",
    "    elif taxable_income <= 900000:\n",
    "        tax = 0.05 * 300000 + 0.1 * (taxable_income - 600000)\n",
    "    elif taxable_income <= 1200000:\n",
    "        tax = 0.05 * 300000 + 0.1 * 300000 + 0.15 * (taxable_income - 900000)\n",
    "    elif taxable_income <= 1500000:\n",
    "        tax = 0.05 * 300000 + 0.1 * 300000 + 0.15 * 300000 + 0.2 * (taxable_income - 1200000)\n",
    "    else:\n",
    "        tax = (0.05 * 300000 + 0.1 * 300000 + 0.15 * 300000 +\n",
    "               0.2 * 300000 + 0.3 * (taxable_income - 1500000))\n",
    "\n",
    "    # Rebate under section 87A for income up to Rs. 7 lakh\n",
    "    if taxable_income <= 700000:\n",
    "        rebate = min(tax, 25000)\n",
    "        tax -= rebate\n",
    "\n",
    "    # Health and Education Cess: 4%\n",
    "    tax = tax * 1.04\n",
    "\n",
    "    return round(tax)\n",
    "\n",
    "\n",
    "def display_summary(ctc, bonus, total_income, old_tax, new_tax):\n",
    "    print(f\"\\nTotal Income: Rs.{total_income}\")\n",
    "    print(f\"Old Regime Tax Deduction: Rs.{old_tax}\")\n",
    "    print(f\"New Regime Tax Deduction: Rs.{new_tax}\")\n",
    "\n",
    "    if old_tax < new_tax:\n",
    "        print(f\"\\nYou Save Rs.{new_tax - old_tax} more using the Old Regime.\")\n",
    "    elif new_tax < old_tax:\n",
    "        print(f\"\\nYou Save Rs.{old_tax - new_tax} more using the New Regime.\")\n",
    "    else:\n",
    "        print(\"\\nTax is the same under both regimes.\")\n",
    "\n",
    "\n",
    "def main():\n",
    "    while True:\n",
    "        print(\"\\n--- Tax Deduction Calculator (FY 2024-25) ---\")\n",
    "        try:\n",
    "            ctc = float(input(\"Enter your CTC: \").strip())\n",
    "            bonus = float(input(\"Enter your Bonus: \").strip())\n",
    "        except ValueError:\n",
    "            print(\"Invalid input! Please enter numeric values.\")\n",
    "            continue\n",
    "\n",
    "        total_income = ctc + bonus\n",
    "\n",
    "        old_tax = calculate_old_regime_tax(total_income)\n",
    "        new_tax = calculate_new_regime_tax(total_income)\n",
    "\n",
    "        display_summary(ctc, bonus, total_income, old_tax, new_tax)\n",
    "\n",
    "        print(\"\\nMenu:\")\n",
    "        print(\"1. Recalculate\")\n",
    "        print(\"2. Exit\")\n",
    "        choice = input(\"Enter your choice: \").strip()\n",
    "        if choice == '2':\n",
    "            print(\"Thank you for using the Tax Deduction Calculator!\")\n",
    "            break\n",
    "\n",
    "if __name__ == \"__main__\":\n",
    "    main()"
   ]
  },
  {
   "cell_type": "code",
   "execution_count": null,
   "id": "d34254c1-0041-48e5-9379-5d7fdc188c6e",
   "metadata": {},
   "outputs": [],
   "source": []
  }
 ],
 "metadata": {
  "kernelspec": {
   "display_name": "Python 3 (ipykernel)",
   "language": "python",
   "name": "python3"
  },
  "language_info": {
   "codemirror_mode": {
    "name": "ipython",
    "version": 3
   },
   "file_extension": ".py",
   "mimetype": "text/x-python",
   "name": "python",
   "nbconvert_exporter": "python",
   "pygments_lexer": "ipython3",
   "version": "3.12.7"
  }
 },
 "nbformat": 4,
 "nbformat_minor": 5
}
