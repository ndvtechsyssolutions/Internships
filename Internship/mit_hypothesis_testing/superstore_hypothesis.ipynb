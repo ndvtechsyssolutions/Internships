{
 "cells": [
  {
   "cell_type": "markdown",
   "id": "bd6303e8",
   "metadata": {},
   "source": [
    "# Statistical Analysis and Hypothesis Testing on Business Sales Dataset"
   ]
  },
  {
   "cell_type": "markdown",
   "id": "99060385",
   "metadata": {},
   "source": [
    "Importing Libraries"
   ]
  },
  {
   "cell_type": "code",
   "execution_count": 1,
   "id": "80534758",
   "metadata": {},
   "outputs": [],
   "source": [
    "import pandas as pd\n",
    "import numpy as np\n",
    "import matplotlib.pyplot as plt\n",
    "import seaborn as sns\n",
    "from scipy import stats\n",
    "%matplotlib inline"
   ]
  },
  {
   "cell_type": "markdown",
   "id": "4a51f6c5",
   "metadata": {},
   "source": [
    "Increasing the column width for better viewing"
   ]
  },
  {
   "cell_type": "code",
   "execution_count": 4,
   "id": "ab3bd138",
   "metadata": {},
   "outputs": [],
   "source": [
    "pd.set_option(\"display.max_columns\", None)\n",
    "pd.set_option(\"display.width\", 1000)"
   ]
  },
  {
   "cell_type": "markdown",
   "id": "abdc643a",
   "metadata": {},
   "source": [
    "Loading the dataset\n",
    "\n",
    "Making sure that the encoding for the csv file is correct"
   ]
  },
  {
   "cell_type": "code",
   "execution_count": 3,
   "id": "ddd5cc1e",
   "metadata": {},
   "outputs": [],
   "source": [
    "df = pd.read_csv(\"Superstore.csv\", encoding=\"cp1252\")"
   ]
  },
  {
   "cell_type": "markdown",
   "id": "40da6018",
   "metadata": {},
   "source": [
    "Exploring the dataset"
   ]
  },
  {
   "cell_type": "code",
   "execution_count": 5,
   "id": "8e9f47fe",
   "metadata": {},
   "outputs": [
    {
     "name": "stdout",
     "output_type": "stream",
     "text": [
      "   Row ID        Order ID  Order Date   Ship Date       Ship Mode Customer ID    Customer Name    Segment        Country             City       State  Postal Code Region       Product ID         Category Sub-Category                                       Product Name     Sales  Quantity  Discount    Profit\n",
      "0       1  CA-2016-152156   11/8/2016  11/11/2016    Second Class    CG-12520      Claire Gute   Consumer  United States        Henderson    Kentucky        42420  South  FUR-BO-10001798        Furniture    Bookcases                  Bush Somerset Collection Bookcase  261.9600         2      0.00   41.9136\n",
      "1       2  CA-2016-152156   11/8/2016  11/11/2016    Second Class    CG-12520      Claire Gute   Consumer  United States        Henderson    Kentucky        42420  South  FUR-CH-10000454        Furniture       Chairs  Hon Deluxe Fabric Upholstered Stacking Chairs,...  731.9400         3      0.00  219.5820\n",
      "2       3  CA-2016-138688   6/12/2016   6/16/2016    Second Class    DV-13045  Darrin Van Huff  Corporate  United States      Los Angeles  California        90036   West  OFF-LA-10000240  Office Supplies       Labels  Self-Adhesive Address Labels for Typewriters b...   14.6200         2      0.00    6.8714\n",
      "3       4  US-2015-108966  10/11/2015  10/18/2015  Standard Class    SO-20335   Sean O'Donnell   Consumer  United States  Fort Lauderdale     Florida        33311  South  FUR-TA-10000577        Furniture       Tables      Bretford CR4500 Series Slim Rectangular Table  957.5775         5      0.45 -383.0310\n",
      "4       5  US-2015-108966  10/11/2015  10/18/2015  Standard Class    SO-20335   Sean O'Donnell   Consumer  United States  Fort Lauderdale     Florida        33311  South  OFF-ST-10000760  Office Supplies      Storage                     Eldon Fold 'N Roll Cart System   22.3680         2      0.20    2.5164\n"
     ]
    }
   ],
   "source": [
    "print(df.head())"
   ]
  },
  {
   "cell_type": "code",
   "execution_count": 6,
   "id": "c7bc86b1",
   "metadata": {},
   "outputs": [
    {
     "name": "stdout",
     "output_type": "stream",
     "text": [
      "<class 'pandas.core.frame.DataFrame'>\n",
      "RangeIndex: 9994 entries, 0 to 9993\n",
      "Data columns (total 21 columns):\n",
      " #   Column         Non-Null Count  Dtype  \n",
      "---  ------         --------------  -----  \n",
      " 0   Row ID         9994 non-null   int64  \n",
      " 1   Order ID       9994 non-null   object \n",
      " 2   Order Date     9994 non-null   object \n",
      " 3   Ship Date      9994 non-null   object \n",
      " 4   Ship Mode      9994 non-null   object \n",
      " 5   Customer ID    9994 non-null   object \n",
      " 6   Customer Name  9994 non-null   object \n",
      " 7   Segment        9994 non-null   object \n",
      " 8   Country        9994 non-null   object \n",
      " 9   City           9994 non-null   object \n",
      " 10  State          9994 non-null   object \n",
      " 11  Postal Code    9994 non-null   int64  \n",
      " 12  Region         9994 non-null   object \n",
      " 13  Product ID     9994 non-null   object \n",
      " 14  Category       9994 non-null   object \n",
      " 15  Sub-Category   9994 non-null   object \n",
      " 16  Product Name   9994 non-null   object \n",
      " 17  Sales          9994 non-null   float64\n",
      " 18  Quantity       9994 non-null   int64  \n",
      " 19  Discount       9994 non-null   float64\n",
      " 20  Profit         9994 non-null   float64\n",
      "dtypes: float64(3), int64(3), object(15)\n",
      "memory usage: 1.6+ MB\n",
      "None\n"
     ]
    }
   ],
   "source": [
    "print(df.info())"
   ]
  },
  {
   "cell_type": "code",
   "execution_count": 7,
   "id": "0d39bb1c",
   "metadata": {},
   "outputs": [
    {
     "name": "stdout",
     "output_type": "stream",
     "text": [
      "Row ID           0\n",
      "Order ID         0\n",
      "Order Date       0\n",
      "Ship Date        0\n",
      "Ship Mode        0\n",
      "Customer ID      0\n",
      "Customer Name    0\n",
      "Segment          0\n",
      "Country          0\n",
      "City             0\n",
      "State            0\n",
      "Postal Code      0\n",
      "Region           0\n",
      "Product ID       0\n",
      "Category         0\n",
      "Sub-Category     0\n",
      "Product Name     0\n",
      "Sales            0\n",
      "Quantity         0\n",
      "Discount         0\n",
      "Profit           0\n",
      "dtype: int64\n"
     ]
    }
   ],
   "source": [
    "print(df.isnull().sum())"
   ]
  },
  {
   "cell_type": "markdown",
   "id": "58116744",
   "metadata": {},
   "source": [
    "Statistical Summary for numerical columns"
   ]
  },
  {
   "cell_type": "code",
   "execution_count": 9,
   "id": "16c7fabc",
   "metadata": {},
   "outputs": [
    {
     "name": "stdout",
     "output_type": "stream",
     "text": [
      "            Row ID   Postal Code         Sales     Quantity     Discount       Profit\n",
      "count  9994.000000   9994.000000   9994.000000  9994.000000  9994.000000  9994.000000\n",
      "mean   4997.500000  55190.379428    229.858001     3.789574     0.156203    28.656896\n",
      "std    2885.163629  32063.693350    623.245101     2.225110     0.206452   234.260108\n",
      "min       1.000000   1040.000000      0.444000     1.000000     0.000000 -6599.978000\n",
      "25%    2499.250000  23223.000000     17.280000     2.000000     0.000000     1.728750\n",
      "50%    4997.500000  56430.500000     54.490000     3.000000     0.200000     8.666500\n",
      "75%    7495.750000  90008.000000    209.940000     5.000000     0.200000    29.364000\n",
      "max    9994.000000  99301.000000  22638.480000    14.000000     0.800000  8399.976000\n"
     ]
    }
   ],
   "source": [
    "print(df.describe())"
   ]
  },
  {
   "cell_type": "markdown",
   "id": "3d4ab402",
   "metadata": {},
   "source": [
    "Statistical Summary for Categorical Columns"
   ]
  },
  {
   "cell_type": "code",
   "execution_count": 11,
   "id": "60320ae1",
   "metadata": {},
   "outputs": [
    {
     "name": "stdout",
     "output_type": "stream",
     "text": [
      "              Order ID Order Date   Ship Date       Ship Mode Customer ID  Customer Name   Segment        Country           City       State Region       Product ID         Category Sub-Category     Product Name\n",
      "count             9994       9994        9994            9994        9994           9994      9994           9994           9994        9994   9994             9994             9994         9994             9994\n",
      "unique            5009       1237        1334               4         793            793         3              1            531          49      4             1862                3           17             1850\n",
      "top     CA-2017-100111   9/5/2016  12/16/2015  Standard Class    WB-21850  William Brown  Consumer  United States  New York City  California   West  OFF-PA-10001970  Office Supplies      Binders  Staple envelope\n",
      "freq                14         38          35            5968          37             37      5191           9994            915        2001   3203               19             6026         1523               48\n"
     ]
    }
   ],
   "source": [
    "print(df.describe(include=\"object\"))"
   ]
  },
  {
   "cell_type": "markdown",
   "id": "c2cb9fcc",
   "metadata": {},
   "source": [
    "Descriptive Statistics"
   ]
  },
  {
   "cell_type": "code",
   "execution_count": 12,
   "id": "61244f12",
   "metadata": {},
   "outputs": [
    {
     "name": "stdout",
     "output_type": "stream",
     "text": [
      "Index(['Row ID', 'Postal Code', 'Sales', 'Quantity', 'Discount', 'Profit'], dtype='object')\n"
     ]
    }
   ],
   "source": [
    "numerical_cols = df.select_dtypes(include=[\"int64\", \"float64\"]).columns\n",
    "print(numerical_cols)"
   ]
  },
  {
   "cell_type": "code",
   "execution_count": 15,
   "id": "4fac375d",
   "metadata": {},
   "outputs": [
    {
     "data": {
      "text/html": [
       "<div>\n",
       "<style scoped>\n",
       "    .dataframe tbody tr th:only-of-type {\n",
       "        vertical-align: middle;\n",
       "    }\n",
       "\n",
       "    .dataframe tbody tr th {\n",
       "        vertical-align: top;\n",
       "    }\n",
       "\n",
       "    .dataframe thead th {\n",
       "        text-align: right;\n",
       "    }\n",
       "</style>\n",
       "<table border=\"1\" class=\"dataframe\">\n",
       "  <thead>\n",
       "    <tr style=\"text-align: right;\">\n",
       "      <th></th>\n",
       "      <th>Row ID</th>\n",
       "      <th>Postal Code</th>\n",
       "      <th>Sales</th>\n",
       "      <th>Quantity</th>\n",
       "      <th>Discount</th>\n",
       "      <th>Profit</th>\n",
       "    </tr>\n",
       "  </thead>\n",
       "  <tbody>\n",
       "    <tr>\n",
       "      <th>mean</th>\n",
       "      <td>4997.500000</td>\n",
       "      <td>55190.379428</td>\n",
       "      <td>229.858001</td>\n",
       "      <td>3.789574</td>\n",
       "      <td>0.156203</td>\n",
       "      <td>28.656896</td>\n",
       "    </tr>\n",
       "    <tr>\n",
       "      <th>median</th>\n",
       "      <td>4997.500000</td>\n",
       "      <td>56430.500000</td>\n",
       "      <td>54.490000</td>\n",
       "      <td>3.000000</td>\n",
       "      <td>0.200000</td>\n",
       "      <td>8.666500</td>\n",
       "    </tr>\n",
       "    <tr>\n",
       "      <th>std</th>\n",
       "      <td>2885.163629</td>\n",
       "      <td>32063.693350</td>\n",
       "      <td>623.245101</td>\n",
       "      <td>2.225110</td>\n",
       "      <td>0.206452</td>\n",
       "      <td>234.260108</td>\n",
       "    </tr>\n",
       "    <tr>\n",
       "      <th>min</th>\n",
       "      <td>1.000000</td>\n",
       "      <td>1040.000000</td>\n",
       "      <td>0.444000</td>\n",
       "      <td>1.000000</td>\n",
       "      <td>0.000000</td>\n",
       "      <td>-6599.978000</td>\n",
       "    </tr>\n",
       "    <tr>\n",
       "      <th>max</th>\n",
       "      <td>9994.000000</td>\n",
       "      <td>99301.000000</td>\n",
       "      <td>22638.480000</td>\n",
       "      <td>14.000000</td>\n",
       "      <td>0.800000</td>\n",
       "      <td>8399.976000</td>\n",
       "    </tr>\n",
       "    <tr>\n",
       "      <th>skew</th>\n",
       "      <td>0.000000</td>\n",
       "      <td>-0.128526</td>\n",
       "      <td>12.972752</td>\n",
       "      <td>1.278545</td>\n",
       "      <td>1.684295</td>\n",
       "      <td>7.561432</td>\n",
       "    </tr>\n",
       "    <tr>\n",
       "      <th>kurt</th>\n",
       "      <td>-1.200000</td>\n",
       "      <td>-1.493020</td>\n",
       "      <td>305.311753</td>\n",
       "      <td>1.991889</td>\n",
       "      <td>2.409546</td>\n",
       "      <td>397.188515</td>\n",
       "    </tr>\n",
       "  </tbody>\n",
       "</table>\n",
       "</div>"
      ],
      "text/plain": [
       "             Row ID   Postal Code         Sales   Quantity  Discount       Profit\n",
       "mean    4997.500000  55190.379428    229.858001   3.789574  0.156203    28.656896\n",
       "median  4997.500000  56430.500000     54.490000   3.000000  0.200000     8.666500\n",
       "std     2885.163629  32063.693350    623.245101   2.225110  0.206452   234.260108\n",
       "min        1.000000   1040.000000      0.444000   1.000000  0.000000 -6599.978000\n",
       "max     9994.000000  99301.000000  22638.480000  14.000000  0.800000  8399.976000\n",
       "skew       0.000000     -0.128526     12.972752   1.278545  1.684295     7.561432\n",
       "kurt      -1.200000     -1.493020    305.311753   1.991889  2.409546   397.188515"
      ]
     },
     "execution_count": 15,
     "metadata": {},
     "output_type": "execute_result"
    }
   ],
   "source": [
    "df[numerical_cols].agg([\"mean\", \"median\", \"std\", \"min\", \"max\", \"skew\", \"kurt\"])"
   ]
  },
  {
   "cell_type": "markdown",
   "id": "bc46d965",
   "metadata": {},
   "source": [
    "### Visualizations"
   ]
  },
  {
   "cell_type": "code",
   "execution_count": 20,
   "id": "6a1f9386",
   "metadata": {},
   "outputs": [
    {
     "data": {
      "image/png": "[encoded data removed]",
      "text/plain": [
       "<Figure size 1600x900 with 1 Axes>"
      ]
     },
     "metadata": {},
     "output_type": "display_data"
    }
   ],
   "source": [
    "plt.figure(figsize=(16, 9))\n",
    "plt.subplot(1, 2, 1)\n",
    "sns.histplot(df[\"Sales\"], bins=30, kde=True)\n",
    "plt.title(\"Sales Distribution\")\n",
    "plt.tight_layout()\n",
    "plt.show()"
   ]
  },
  {
   "cell_type": "code",
   "execution_count": 21,
   "id": "830d5ba3",
   "metadata": {},
   "outputs": [
    {
     "data": {
      "image/png": "[encoded data removed]",
      "text/plain": [
       "<Figure size 1600x900 with 1 Axes>"
      ]
     },
     "metadata": {},
     "output_type": "display_data"
    }
   ],
   "source": [
    "plt.figure(figsize=(16, 9))\n",
    "plt.subplot(1, 2, 1)\n",
    "sns.boxplot(x=df[\"Sales\"])\n",
    "plt.title(\"Sales Boxplot\")\n",
    "plt.tight_layout()\n",
    "plt.show()"
   ]
  },
  {
   "cell_type": "markdown",
   "id": "436fa257",
   "metadata": {},
   "source": [
    "### Hypothesis Testing"
   ]
  },
  {
   "cell_type": "markdown",
   "id": "1d0cbe8c",
   "metadata": {},
   "source": [
    "Hypothesis 1:\n",
    "\n",
    "Ho: The average sales for the \"Technology\" category is equal to $250\n",
    "\n",
    "H1: The average sales for the \"Technology\" category is **not equal** to $250\n",
    "\n",
    "Conclusion:\n",
    "\n",
    "Since the p_value is less than 0.05 the hypothesis H0 is rejected and H1 is accepted.\n",
    "\n",
    "The average sales for \"Technology\" category is different than $250.\n"
   ]
  },
  {
   "cell_type": "code",
   "execution_count": 27,
   "id": "e5834bb4",
   "metadata": {},
   "outputs": [
    {
     "name": "stdout",
     "output_type": "stream",
     "text": [
      "7        907.152\n",
      "11       911.424\n",
      "19       213.480\n",
      "26        90.570\n",
      "35      1097.544\n",
      "          ...   \n",
      "9983      97.980\n",
      "9986      36.240\n",
      "9987      79.990\n",
      "9988     206.100\n",
      "9991     258.576\n",
      "Name: Sales, Length: 1847, dtype: float64\n"
     ]
    }
   ],
   "source": [
    "tech_sales = df[df[\"Category\"] == \"Technology\"][\"Sales\"]\n",
    "print(tech_sales)"
   ]
  },
  {
   "cell_type": "code",
   "execution_count": 33,
   "id": "2286ed2a",
   "metadata": {},
   "outputs": [
    {
     "name": "stdout",
     "output_type": "stream",
     "text": [
      "T-statistic: 7.8580\n",
      "\n",
      "p-value: 0.0000\n"
     ]
    }
   ],
   "source": [
    "category_t_stat, category_p_value = stats.ttest_1samp(tech_sales, popmean=250)\n",
    "\n",
    "print(f\"T-statistic: {category_t_stat:.4f}\")\n",
    "\n",
    "print(f\"\\np-value: {category_p_value:.4f}\")"
   ]
  },
  {
   "cell_type": "markdown",
   "id": "714905de",
   "metadata": {},
   "source": [
    "### Hypothesis 2:\n",
    "\n",
    "H0: Average profit of \"East\" and \"West\" regions is same.\n",
    "\n",
    "H1: Average profit of \"East\" and \"West\" regions **is different**.\n",
    "\n",
    "Conclusion:\n",
    "\n",
    "Since the p-value is more than 0.05 hypothesis H0 is accepted and H1 is rejected.\n",
    "\n",
    "The average profit for \"East\" and \"West\" regions is about the same."
   ]
  },
  {
   "cell_type": "code",
   "execution_count": 31,
   "id": "b3c6557a",
   "metadata": {},
   "outputs": [
    {
     "name": "stdout",
     "output_type": "stream",
     "text": [
      "East Profit:\n",
      "23        -1.0196\n",
      "27     -1665.0522\n",
      "28        -7.0532\n",
      "29        15.5250\n",
      "30         1.1016\n",
      "          ...    \n",
      "9968     331.1910\n",
      "9969       6.5975\n",
      "9981       5.3690\n",
      "9984      15.1200\n",
      "9985      16.1240\n",
      "Name: Profit, Length: 2848, dtype: float64\n",
      "\n",
      "West Profit:\n",
      "2        6.8714\n",
      "5       14.1694\n",
      "6        1.9656\n",
      "7       90.7152\n",
      "8        5.7825\n",
      "         ...   \n",
      "9986    15.2208\n",
      "9990    15.6332\n",
      "9991    19.3932\n",
      "9992    13.3200\n",
      "9993    72.9480\n",
      "Name: Profit, Length: 3203, dtype: float64\n"
     ]
    }
   ],
   "source": [
    "east_profit = df[df[\"Region\"] == \"East\"][\"Profit\"]\n",
    "print(f\"East Profit:\\n{east_profit}\")\n",
    "\n",
    "west_profit = df[df[\"Region\"] == \"West\"][\"Profit\"]\n",
    "print(f\"\\nWest Profit:\\n{west_profit}\")\n"
   ]
  },
  {
   "cell_type": "code",
   "execution_count": 34,
   "id": "4ec3212c",
   "metadata": {},
   "outputs": [
    {
     "name": "stdout",
     "output_type": "stream",
     "text": [
      "T-statistic: -0.3043\n",
      "\n",
      "p-value: 0.7609\n"
     ]
    }
   ],
   "source": [
    "region_t_stat, region_p_value = stats.ttest_ind(east_profit, west_profit, equal_var=False)\n",
    "\n",
    "print(f\"T-statistic: {region_t_stat:.4f}\")\n",
    "\n",
    "print(f\"\\np-value: {region_p_value:.4f}\")"
   ]
  },
  {
   "cell_type": "markdown",
   "id": "f2888fba",
   "metadata": {},
   "source": [
    "### Chi-Square Test for Category vs Region"
   ]
  },
  {
   "cell_type": "markdown",
   "id": "f0aedcd4",
   "metadata": {},
   "source": [
    "Hypothesis:\n",
    "\n",
    "H0: Category and Region are dependent on each other\n",
    "\n",
    "H1: Category and region are **not dependent** on each other\n",
    "\n",
    "Since the p-value is more than 0.05 hypothesis H0 is accepted and H1 is rejected.\n",
    "\n",
    "There is no dependency between category and region."
   ]
  },
  {
   "cell_type": "code",
   "execution_count": 35,
   "id": "d7e502a1",
   "metadata": {},
   "outputs": [
    {
     "name": "stdout",
     "output_type": "stream",
     "text": [
      "Contingency Table:\n",
      "Region           Central  East  South  West\n",
      "Category                                   \n",
      "Furniture            481   601    332   707\n",
      "Office Supplies     1422  1712    995  1897\n",
      "Technology           420   535    293   599\n"
     ]
    }
   ],
   "source": [
    "contingency_table = pd.crosstab(df[\"Category\"], df[\"Region\"])\n",
    "print(f\"Contingency Table:\\n{contingency_table}\")"
   ]
  },
  {
   "cell_type": "code",
   "execution_count": 36,
   "id": "e9b2b164",
   "metadata": {},
   "outputs": [
    {
     "name": "stdout",
     "output_type": "stream",
     "text": [
      "Chi-Square Statistics:\n",
      "\n",
      "Chi-Square value: 3.6619\n",
      "\n",
      "p-value: 0.7223\n"
     ]
    }
   ],
   "source": [
    "chi2, p, dof, expected = stats.chi2_contingency(contingency_table)\n",
    "\n",
    "print(f\"Chi-Square Statistics:\")\n",
    "\n",
    "print(f\"\\nChi-Square value: {chi2:.4f}\")\n",
    "\n",
    "print(f\"\\np-value: {p:.4f}\")\n"
   ]
  },
  {
   "cell_type": "markdown",
   "id": "9f6e0a41",
   "metadata": {},
   "source": [
    "### Correlation Heatmap of numerical columns"
   ]
  },
  {
   "cell_type": "code",
   "execution_count": 44,
   "id": "48779258",
   "metadata": {},
   "outputs": [
    {
     "data": {
      "image/png": "[encoded data removed]",
      "text/plain": [
       "<Figure size 1200x600 with 2 Axes>"
      ]
     },
     "metadata": {},
     "output_type": "display_data"
    }
   ],
   "source": [
    "corr = df[numerical_cols].corr()\n",
    "\n",
    "plt.figure(figsize=(12, 6))\n",
    "sns.heatmap(corr, annot=True, cmap=\"coolwarm\", fmt=\".2f\")\n",
    "plt.title(\"Correlation Heatmap\")\n",
    "plt.tight_layout()\n",
    "plt.show()"
   ]
  },
  {
   "cell_type": "markdown",
   "id": "ffa05eef",
   "metadata": {},
   "source": [
    "### Pivot Table / Group-wise Summary\n",
    "\n",
    "Finding average sales and profit per region and category"
   ]
  },
  {
   "cell_type": "code",
   "execution_count": null,
   "id": "43786daa",
   "metadata": {},
   "outputs": [
    {
     "data": {
      "text/html": [
       "<div>\n",
       "<style scoped>\n",
       "    .dataframe tbody tr th:only-of-type {\n",
       "        vertical-align: middle;\n",
       "    }\n",
       "\n",
       "    .dataframe tbody tr th {\n",
       "        vertical-align: top;\n",
       "    }\n",
       "\n",
       "    .dataframe thead tr th {\n",
       "        text-align: left;\n",
       "    }\n",
       "\n",
       "    .dataframe thead tr:last-of-type th {\n",
       "        text-align: right;\n",
       "    }\n",
       "</style>\n",
       "<table border=\"1\" class=\"dataframe\">\n",
       "  <thead>\n",
       "    <tr>\n",
       "      <th></th>\n",
       "      <th colspan=\"3\" halign=\"left\">Profit</th>\n",
       "      <th colspan=\"3\" halign=\"left\">Sales</th>\n",
       "    </tr>\n",
       "    <tr>\n",
       "      <th>Category</th>\n",
       "      <th>Furniture</th>\n",
       "      <th>Office Supplies</th>\n",
       "      <th>Technology</th>\n",
       "      <th>Furniture</th>\n",
       "      <th>Office Supplies</th>\n",
       "      <th>Technology</th>\n",
       "    </tr>\n",
       "    <tr>\n",
       "      <th>Region</th>\n",
       "      <th></th>\n",
       "      <th></th>\n",
       "      <th></th>\n",
       "      <th></th>\n",
       "      <th></th>\n",
       "      <th></th>\n",
       "    </tr>\n",
       "  </thead>\n",
       "  <tbody>\n",
       "    <tr>\n",
       "      <th>Central</th>\n",
       "      <td>-5.968918</td>\n",
       "      <td>6.244712</td>\n",
       "      <td>80.231981</td>\n",
       "      <td>340.534644</td>\n",
       "      <td>117.458801</td>\n",
       "      <td>405.753124</td>\n",
       "    </tr>\n",
       "    <tr>\n",
       "      <th>East</th>\n",
       "      <td>5.068496</td>\n",
       "      <td>23.957114</td>\n",
       "      <td>88.714084</td>\n",
       "      <td>346.574383</td>\n",
       "      <td>120.044425</td>\n",
       "      <td>495.278469</td>\n",
       "    </tr>\n",
       "    <tr>\n",
       "      <th>South</th>\n",
       "      <td>20.395199</td>\n",
       "      <td>20.086827</td>\n",
       "      <td>68.231506</td>\n",
       "      <td>353.309289</td>\n",
       "      <td>126.282727</td>\n",
       "      <td>507.753952</td>\n",
       "    </tr>\n",
       "    <tr>\n",
       "      <th>West</th>\n",
       "      <td>16.272914</td>\n",
       "      <td>27.733183</td>\n",
       "      <td>73.962687</td>\n",
       "      <td>357.302325</td>\n",
       "      <td>116.422377</td>\n",
       "      <td>420.687533</td>\n",
       "    </tr>\n",
       "  </tbody>\n",
       "</table>\n",
       "</div>"
      ],
      "text/plain": [
       "             Profit                                  Sales                            \n",
       "Category  Furniture Office Supplies Technology   Furniture Office Supplies  Technology\n",
       "Region                                                                                \n",
       "Central   -5.968918        6.244712  80.231981  340.534644      117.458801  405.753124\n",
       "East       5.068496       23.957114  88.714084  346.574383      120.044425  495.278469\n",
       "South     20.395199       20.086827  68.231506  353.309289      126.282727  507.753952\n",
       "West      16.272914       27.733183  73.962687  357.302325      116.422377  420.687533"
      ]
     },
     "execution_count": 46,
     "metadata": {},
     "output_type": "execute_result"
    }
   ],
   "source": [
    "pivot_table = df.pivot_table(values=[\"Sales\", \"Profit\"],\n",
    "                             index=\"Region\",\n",
    "                             columns=\"Category\",\n",
    "                             aggfunc=\"mean\")\n",
    "\n",
    "pivot_table"
   ]
  },
  {
   "cell_type": "markdown",
   "id": "b89f33ea",
   "metadata": {},
   "source": [
    "### ANOVA for Profit across Categories\n",
    "\n",
    "Hypothesis:\n",
    "\n",
    "H0: Mean profit is same across all categories\n",
    "\n",
    "H1: Mean profit is different in atleast one category.\n",
    "\n",
    "Conclusion:\n",
    "\n",
    "Since the p-value is less than 0.05 the hypothesis H0 is rejected and H1 is accepted.\n",
    "\n",
    "Profit is different accross categories."
   ]
  },
  {
   "cell_type": "code",
   "execution_count": 49,
   "id": "6b8d38a7",
   "metadata": {},
   "outputs": [
    {
     "name": "stdout",
     "output_type": "stream",
     "text": [
      "Tech Profit: \n",
      "7        90.7152\n",
      "11       68.3568\n",
      "19       16.0110\n",
      "26       11.7741\n",
      "35      123.4737\n",
      "          ...   \n",
      "9983     27.4344\n",
      "9986     15.2208\n",
      "9987     28.7964\n",
      "9988     55.6470\n",
      "9991     19.3932\n",
      "Name: Profit, Length: 1847, dtype: float64\n"
     ]
    }
   ],
   "source": [
    "tech_profit = df[df[\"Category\"] == \"Technology\"][\"Profit\"]\n",
    "print(f\"Tech Profit: \\n{tech_profit}\")"
   ]
  },
  {
   "cell_type": "code",
   "execution_count": 53,
   "id": "da5c1de6",
   "metadata": {},
   "outputs": [
    {
     "name": "stdout",
     "output_type": "stream",
     "text": [
      "\n",
      "Furniture Profit: \n",
      "0        41.9136\n",
      "1       219.5820\n",
      "3      -383.0310\n",
      "5        14.1694\n",
      "10       85.3092\n",
      "          ...   \n",
      "9962    -67.6704\n",
      "9964      6.4320\n",
      "9980     22.3548\n",
      "9989      4.1028\n",
      "9990     15.6332\n",
      "Name: Profit, Length: 2121, dtype: float64\n"
     ]
    }
   ],
   "source": [
    "furniture_profit = df[df[\"Category\"] == \"Furniture\"][\"Profit\"]\n",
    "print(f\"\\nFurniture Profit: \\n{furniture_profit}\")"
   ]
  },
  {
   "cell_type": "code",
   "execution_count": null,
   "id": "87f3448c",
   "metadata": {},
   "outputs": [
    {
     "name": "stdout",
     "output_type": "stream",
     "text": [
      "\n",
      "Office Supply Profit: \n",
      "2        6.8714\n",
      "4        2.5164\n",
      "6        1.9656\n",
      "8        5.7825\n",
      "9       34.4700\n",
      "         ...   \n",
      "9982    16.7132\n",
      "9984    15.1200\n",
      "9985    16.1240\n",
      "9992    13.3200\n",
      "9993    72.9480\n",
      "Name: Profit, Length: 6026, dtype: float64\n"
     ]
    }
   ],
   "source": [
    "office_supply_profit = df[df[\"Category\"] == \"Office Supplies\"][\"Profit\"]\n",
    "print(f\"\\nOffice Supply Profit: \\n{office_supply_profit}\")"
   ]
  },
  {
   "cell_type": "code",
   "execution_count": 57,
   "id": "9e31f27e",
   "metadata": {},
   "outputs": [
    {
     "name": "stdout",
     "output_type": "stream",
     "text": [
      "F-statistics:\n",
      "\n",
      "F-stat: 54.3110\n",
      "\n",
      "p-value: 0.0000\n"
     ]
    }
   ],
   "source": [
    "anova_f_stat, anova_p_value = stats.f_oneway(tech_profit, furniture_profit, office_supply_profit)\n",
    "\n",
    "print(f\"F-statistics:\")\n",
    "\n",
    "print(f\"\\nF-stat: {anova_f_stat:.4f}\")\n",
    "\n",
    "print(f\"\\np-value: {anova_p_value:.4f}\")"
   ]
  },
  {
   "cell_type": "code",
   "execution_count": null,
   "id": "b2fb96eb",
   "metadata": {},
   "outputs": [],
   "source": []
  }
 ],
 "metadata": {
  "kernelspec": {
   "display_name": "Python 3",
   "language": "python",
   "name": "python3"
  },
  "language_info": {
   "codemirror_mode": {
    "name": "ipython",
    "version": 3
   },
   "file_extension": ".py",
   "mimetype": "text/x-python",
   "name": "python",
   "nbconvert_exporter": "python",
   "pygments_lexer": "ipython3",
   "version": "3.12.1"
  }
 },
 "nbformat": 4,
 "nbformat_minor": 5
}
