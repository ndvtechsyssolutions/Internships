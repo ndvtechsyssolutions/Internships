# Import libraries
import pandas as pd
import numpy as np
import seaborn as sns
import matplotlib.pyplot as plt

# Load dataset
df = pd.read_csv("../data/titanic.csv")
df.head()
# Check missing values
df.isnull().sum()

# Fill missing values
df['Age'].fillna(df['Age'].median(), inplace=True)
df['Embarked'].fillna(df['Embarked'].mode()[0], inplace=True)

# Drop Cabin (too many nulls)
df.drop(columns='Cabin', inplace=True)

# Remove duplicates if any
df.drop_duplicates(inplace=True)

# Check types
df.dtypes
df.describe()
df.info()
df['Survived'].value_counts()
# Histogram
df['Age'].hist(bins=30)
plt.title('Age distribution')
plt.show()

# Box plot
sns.boxplot(x='Pclass', y='Age', data=df)
plt.show()

# Count plot
sns.countplot(x='Survived', hue='Sex', data=df)
plt.show()
sns.heatmap(df.select_dtypes(include='number').corr(), annot=True)
plt.show()
df.groupby('Pclass')['Survived'].mean()
df.groupby('Sex')['Survived'].mean()
# Create new feature: FamilySize
df['FamilySize'] = df['SibSp'] + df['Parch'] + 1
df.head()

sns.barplot(x='FamilySize', y='Survived', data=df)
plt.show()
